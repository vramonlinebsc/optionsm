{
  "nbformat": 4,
  "nbformat_minor": 0,
  "metadata": {
    "colab": {
      "provenance": [],
      "authorship_tag": "ABX9TyPCX8TZyRpRuc4xzU0N0kZR",
      "include_colab_link": true
    },
    "kernelspec": {
      "name": "python3",
      "display_name": "Python 3"
    },
    "language_info": {
      "name": "python"
    }
  },
  "cells": [
    {
      "cell_type": "markdown",
      "metadata": {
        "id": "view-in-github",
        "colab_type": "text"
      },
      "source": [
        "<a href=\"https://colab.research.google.com/github/vramonlinebsc/optionsm/blob/main/fig_vs_non_fig.ipynb\" target=\"_parent\"><img src=\"https://colab.research.google.com/assets/colab-badge.svg\" alt=\"Open In Colab\"/></a>"
      ]
    },
    {
      "cell_type": "code",
      "source": [
        "import pandas as pd\n",
        "\n",
        "# Assuming the file is uploaded to Colab and accessible in the current directory\n",
        "file_path = '/content/sample_data/Autos Comps_New.xlsx'  # Replace with your file path\n",
        "\n",
        "# Load the Excel file\n",
        "data = pd.read_excel(file_path)\n",
        "\n",
        "# Extract and process EBIDTA change values for the first and second year\n",
        "# Removing previous direct conversion to float to check raw values first\n",
        "ebidta_change_values_raw = data.iloc[3:11, 13].astype(str)\n",
        "second_year_ebidta_change_values_raw = data.iloc[3:11, 17].astype(str)\n",
        "\n",
        "print(\"Raw EBIDTA Changes for the First Year:\", ebidta_change_values_raw)\n",
        "print(\"Raw EBIDTA Changes for the Second Year:\", second_year_ebidta_change_values_raw)\n",
        "\n",
        "# Now convert and replace percentages and parentheses\n",
        "ebidta_change_values = ebidta_change_values_raw.str.replace(r'\\((.*?)\\%\\)', r'-\\1').str.rstrip('%').astype(float)\n",
        "second_year_ebidta_change_values = second_year_ebidta_change_values_raw.str.replace(r'\\((.*?)\\%\\)', r'-\\1').str.rstrip('%').astype(float)\n",
        "\n",
        "print(\"Processed EBIDTA Changes for the First Year:\", ebidta_change_values)\n",
        "print(\"Processed EBIDTA Changes for the Second Year:\", second_year_ebidta_change_values)\n",
        "\n",
        "# Calculate the weighted average\n",
        "weighted_average = (ebidta_change_values * 0.6 + second_year_ebidta_change_values * 0.4)\n",
        "weighted_average = weighted_average.apply(lambda x: 0.000 if abs(x) < 0.0005 else x).round(3)\n",
        "\n",
        "# Extract ticker names\n",
        "ticker_names = data.iloc[3:11, 1]\n",
        "\n",
        "# Create a new DataFrame\n",
        "new_df = pd.DataFrame({\n",
        "    'Ticker Names': ticker_names,\n",
        "    'Weighted Average': weighted_average  # already rounded\n",
        "})\n",
        "\n",
        "# Debug print the entire DataFrame\n",
        "print(new_df)\n",
        "\n",
        "# Action based on conditions\n",
        "actions = []\n",
        "for index, row in new_df.iterrows():\n",
        "    weighted_avg = row['Weighted Average']\n",
        "    ticker_name = row['Ticker Names']\n",
        "    if 0.05 <= weighted_avg < 0.10:\n",
        "        actions.append(f\"sell 5 puts of {ticker_name}\")\n",
        "    elif 0.10 <= weighted_avg < 0.15:\n",
        "        actions.append(f\"sell 7 puts of {ticker_name}\")\n",
        "    elif weighted_avg >= 0.15:\n",
        "        actions.append(f\"sell 9 puts of {ticker_name}\")\n",
        "    elif -0.10 <= weighted_avg < -0.05:\n",
        "        actions.append(f\"sell 5 calls of {ticker_name}\")\n",
        "    elif -0.15 <= weighted_avg < -0.10:\n",
        "        actions.append(f\"sell 7 calls of {ticker_name}\")\n",
        "    elif weighted_avg < -0.15:\n",
        "        actions.append(f\"sell 7 calls of {ticker_name}\")\n",
        "    else:\n",
        "        actions.append(f\"No action for {ticker_name}\")\n",
        "\n",
        "# Output results\n",
        "for action in actions:\n",
        "    print(action)\n"
      ],
      "metadata": {
        "colab": {
          "base_uri": "https://localhost:8080/"
        },
        "id": "f7dEPQDP7QB3",
        "outputId": "35ab8b06-4346-47f2-e081-5142d95080ac"
      },
      "execution_count": 53,
      "outputs": [
        {
          "output_type": "stream",
          "name": "stdout",
          "text": [
            "Raw EBIDTA Changes for the First Year: 3       -0.00841215995522488\n",
            "4        0.03772896951103362\n",
            "5     0.00018558836843947388\n",
            "6       0.024722396175092608\n",
            "7       0.005075308241837117\n",
            "8        0.06791439089635418\n",
            "9         0.0349945615636461\n",
            "10      0.004131727561651982\n",
            "Name: Unnamed: 13, dtype: object\n",
            "Raw EBIDTA Changes for the Second Year: 3       0.011923106468581522\n",
            "4        0.04915058787261662\n",
            "5     0.00019183677480566502\n",
            "6        0.03298299924955408\n",
            "7       0.008575208897703055\n",
            "8        0.08355041501918503\n",
            "9        0.03629209825958758\n",
            "10      0.008217679371816337\n",
            "Name: Unnamed: 17, dtype: object\n",
            "Processed EBIDTA Changes for the First Year: 3    -0.008412\n",
            "4     0.037729\n",
            "5     0.000186\n",
            "6     0.024722\n",
            "7     0.005075\n",
            "8     0.067914\n",
            "9     0.034995\n",
            "10    0.004132\n",
            "Name: Unnamed: 13, dtype: float64\n",
            "Processed EBIDTA Changes for the Second Year: 3     0.011923\n",
            "4     0.049151\n",
            "5     0.000192\n",
            "6     0.032983\n",
            "7     0.008575\n",
            "8     0.083550\n",
            "9     0.036292\n",
            "10    0.008218\n",
            "Name: Unnamed: 17, dtype: float64\n",
            "   Ticker Names  Weighted Average\n",
            "3          TTMT             0.000\n",
            "4            AL             0.042\n",
            "5         BJAUT             0.000\n",
            "6           EIM             0.028\n",
            "7          HMCL             0.006\n",
            "8            MM             0.074\n",
            "9          MSIL             0.036\n",
            "10         TVSL             0.006\n",
            "No action for TTMT\n",
            "No action for AL\n",
            "No action for BJAUT\n",
            "No action for EIM\n",
            "No action for HMCL\n",
            "sell 5 puts of MM\n",
            "No action for MSIL\n",
            "No action for TVSL\n"
          ]
        }
      ]
    }
  ]
}